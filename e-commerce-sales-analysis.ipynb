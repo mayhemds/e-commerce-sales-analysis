{
 "cells": [
  {
   "cell_type": "code",
   "execution_count": null,
   "metadata": {},
   "outputs": [],
   "source": [
    "import pandas as pd\n",
    "import numpy as np\n",
    "import matplotlib.pyplot as plt\n",
    "import seaborn as sns\n",
    "\n",
    "# Load the Data set\n",
    "file_path = \"../../Datasets/real_world_datasets/ecommerce_sales.xlsx\"\n",
    "\n",
    "# Read the file \n",
    "df = pd.read_excel(file_path) \n",
    "\n",
    "# View the first 5 rows\n",
    "df.head()"
   ]
  }
 ],
 "metadata": {
  "language_info": {
   "name": "python"
  }
 },
 "nbformat": 4,
 "nbformat_minor": 2
}
